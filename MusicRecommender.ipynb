{
 "cells": [
  {
   "cell_type": "code",
   "execution_count": 1,
   "id": "a0cfadfa",
   "metadata": {},
   "outputs": [
    {
     "data": {
      "text/plain": [
       "1.0"
      ]
     },
     "execution_count": 1,
     "metadata": {},
     "output_type": "execute_result"
    }
   ],
   "source": [
    "import pandas as pd\n",
    "from sklearn.tree import DecisionTreeClassifier\n",
    "from sklearn.model_selection import train_test_split\n",
    "from sklearn.metrics import accuracy_score\n",
    "\n",
    "music_data = pd.read_csv('music.csv')\n",
    "#split into input and output\n",
    "#drop removes a column from a data set, since we want age and gender as input we will drop genre from the data set\n",
    "X = music_data.drop(columns = ['genre'])\n",
    "#X #show X data set\n",
    "#gets genre column\n",
    "y = music_data['genre']\n",
    "#y #show y data set\n",
    "X_train, X_test, y_train, y_test = train_test_split(X, y, test_size =0.2) #allocates 20 percent of our data for testing\n",
    "\n",
    "model = DecisionTreeClassifier()\n",
    "#model.fit(X,y) #takes two data sets input and output #passes entire data set which is not good \n",
    "#want to pass trained data set\n",
    "model.fit(X_train,y_train)\n",
    "#predictions = model.predict([ [21,1], [22, 0] ]) # provided custom values for testing not good practice\n",
    "predictions = model.predict(X_test)\n",
    "#now want to compare prediction accuracy which compares xtest to ytest\n",
    "#predictions\n",
    "score = accuracy_score(y_test, predictions) #returns accuracy score between 0 and 1\n",
    "score\n"
   ]
  }
 ],
 "metadata": {
  "kernelspec": {
   "display_name": "Python 3 (ipykernel)",
   "language": "python",
   "name": "python3"
  },
  "language_info": {
   "codemirror_mode": {
    "name": "ipython",
    "version": 3
   },
   "file_extension": ".py",
   "mimetype": "text/x-python",
   "name": "python",
   "nbconvert_exporter": "python",
   "pygments_lexer": "ipython3",
   "version": "3.9.13"
  }
 },
 "nbformat": 4,
 "nbformat_minor": 5
}
